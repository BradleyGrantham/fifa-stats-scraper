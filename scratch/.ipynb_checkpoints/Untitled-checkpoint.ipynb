{
 "cells": [
  {
   "cell_type": "markdown",
   "metadata": {},
   "source": [
    "# Add a generic position to each players data"
   ]
  },
  {
   "cell_type": "code",
   "execution_count": 3,
   "metadata": {},
   "outputs": [],
   "source": [
    "import json"
   ]
  },
  {
   "cell_type": "code",
   "execution_count": 4,
   "metadata": {},
   "outputs": [],
   "source": [
    "EXACT_TO_GENERIC = {'CAM': 'midfield',\n",
    " 'CB': 'defence',\n",
    " 'CDM': 'midfield',\n",
    " 'CF': 'attack',\n",
    " 'CM': 'midfield',\n",
    " 'GK': 'goalkeeper',\n",
    " 'LAM': 'midfield',\n",
    " 'LB': 'defence',\n",
    " 'LCB': 'defence',\n",
    " 'LCM': 'midfield',\n",
    " 'LDM': 'midfield',\n",
    " 'LF': 'attack',\n",
    " 'LM': 'midfield',\n",
    " 'LS': 'attack',\n",
    " 'LW': 'attack',\n",
    " 'RAM': 'attack',\n",
    " 'RB': 'attack',\n",
    " 'RCB': 'defence',\n",
    " 'RCM': 'midfield',\n",
    " 'RDM': 'midfield',\n",
    " 'RF': 'attack',\n",
    " 'RM': 'midfield',\n",
    " 'RS': 'attack',\n",
    " 'RW': 'attack',\n",
    " 'RWB': 'defence',\n",
    " 'Res': 'nan',\n",
    " 'ST': 'attack',\n",
    " 'Sub': 'nan'}"
   ]
  },
  {
   "cell_type": "code",
   "execution_count": 85,
   "metadata": {},
   "outputs": [],
   "source": [
    "def get_longest_name(player_name):\n",
    "    \"\"\"\n",
    "    Will eventually be used to ensure we have matched the longest name\n",
    "    \"\"\"\n",
    "    max_length = max([len(x) for x in player_name.split('-')])\n",
    "    return max_length"
   ]
  },
  {
   "cell_type": "code",
   "execution_count": 5,
   "metadata": {},
   "outputs": [],
   "source": [
    "with open('../data/data.json') as jsonfile:\n",
    "    data = json.load(jsonfile)"
   ]
  },
  {
   "cell_type": "code",
   "execution_count": 6,
   "metadata": {},
   "outputs": [],
   "source": [
    "positions = []\n",
    "for player in data:\n",
    "    positions.append(player['info']['position'])"
   ]
  },
  {
   "cell_type": "code",
   "execution_count": 7,
   "metadata": {},
   "outputs": [],
   "source": [
    " for player in data:\n",
    "    player['info']['general position'] = EXACT_TO_GENERIC[player['info']['position']]"
   ]
  },
  {
   "cell_type": "code",
   "execution_count": 8,
   "metadata": {},
   "outputs": [],
   "source": [
    "with open('../data/data2.json', 'w') as outfile:\n",
    "    json.dump(data, outfile)"
   ]
  },
  {
   "cell_type": "markdown",
   "metadata": {},
   "source": [
    "# Match lineups data exploration"
   ]
  },
  {
   "cell_type": "code",
   "execution_count": 10,
   "metadata": {},
   "outputs": [],
   "source": [
    "with open('../data/matchlineups.json') as jsonfile:\n",
    "    match_lineups = json.load(jsonfile)"
   ]
  },
  {
   "cell_type": "code",
   "execution_count": 18,
   "metadata": {},
   "outputs": [],
   "source": [
    "test_match = match_lineups[7]"
   ]
  },
  {
   "cell_type": "code",
   "execution_count": 23,
   "metadata": {},
   "outputs": [],
   "source": [
    "home_lineup = test_match['info']['home lineup'].split('; ')"
   ]
  },
  {
   "cell_type": "code",
   "execution_count": 24,
   "metadata": {},
   "outputs": [
    {
     "data": {
      "text/plain": [
       "['thibaut-courtois',\n",
       " 'cesar-azpilicueta-tanco',\n",
       " 'marcos-alonso-mendoza',\n",
       " 'gary-cahill',\n",
       " 'david-luiz-moreira-marinho',\n",
       " 'antonio-rudiger',\n",
       " 'n-golo-kante',\n",
       " 'francesc-fabregas-i-soler',\n",
       " 'jeremie-boga',\n",
       " 'michy-batshuayi-tunga',\n",
       " 'willian-borges-da-silva']"
      ]
     },
     "execution_count": 24,
     "metadata": {},
     "output_type": "execute_result"
    }
   ],
   "source": [
    "home_lineup"
   ]
  },
  {
   "cell_type": "code",
   "execution_count": 61,
   "metadata": {},
   "outputs": [],
   "source": [
    "player_names = [player['name'] for player in data if player['info']['team'] == 'chelsea']"
   ]
  },
  {
   "cell_type": "code",
   "execution_count": 62,
   "metadata": {},
   "outputs": [
    {
     "data": {
      "text/plain": [
       "['eden-hazard',\n",
       " 'n-golo-kante',\n",
       " 'thibaut-courtois',\n",
       " 'azpilicueta',\n",
       " 'cesc-fabregas',\n",
       " 'morata',\n",
       " 'david-luiz',\n",
       " 'willian',\n",
       " 'pedro',\n",
       " 'andreas-christensen',\n",
       " 'marcos-alonso',\n",
       " 'gary-cahill',\n",
       " 'olivier-giroud',\n",
       " 'antonio-rudiger']"
      ]
     },
     "execution_count": 62,
     "metadata": {},
     "output_type": "execute_result"
    }
   ],
   "source": [
    "player_names"
   ]
  },
  {
   "cell_type": "code",
   "execution_count": 63,
   "metadata": {},
   "outputs": [
    {
     "data": {
      "text/plain": [
       "{'antonio-rudiger', 'gary-cahill', 'n-golo-kante', 'thibaut-courtois'}"
      ]
     },
     "execution_count": 63,
     "metadata": {},
     "output_type": "execute_result"
    }
   ],
   "source": [
    "set(home_lineup).intersection(set(player_names))"
   ]
  },
  {
   "cell_type": "code",
   "execution_count": 72,
   "metadata": {},
   "outputs": [
    {
     "data": {
      "text/plain": [
       "8"
      ]
     },
     "execution_count": 72,
     "metadata": {},
     "output_type": "execute_result"
    }
   ],
   "source": [
    "get_longest_name(player_names[2])"
   ]
  },
  {
   "cell_type": "code",
   "execution_count": 73,
   "metadata": {},
   "outputs": [],
   "source": [
    "from difflib import SequenceMatcher"
   ]
  },
  {
   "cell_type": "code",
   "execution_count": 82,
   "metadata": {},
   "outputs": [],
   "source": [
    "home_players = []\n",
    "for home_player in home_lineup:\n",
    "    best_string = 0\n",
    "    best_player = None\n",
    "    for player in data:\n",
    "        s = SequenceMatcher(None, home_player, player['name'])\n",
    "        size = s.find_longest_match(0, len(home_player), 0, len(player['name'])).size\n",
    "        if player['info']['team'] == 'chelsea':\n",
    "            size += 2\n",
    "        if size > best_string:\n",
    "            best_player = player['name']\n",
    "            best_string = size\n",
    "            best_rating = player['info']['rating']\n",
    "    home_players.append((best_player, best_string, best_rating))"
   ]
  },
  {
   "cell_type": "code",
   "execution_count": 83,
   "metadata": {},
   "outputs": [
    {
     "data": {
      "text/plain": [
       "[('thibaut-courtois', 18, 89),\n",
       " ('azpilicueta', 13, 86),\n",
       " ('marcos-alonso', 15, 82),\n",
       " ('gary-cahill', 13, 82),\n",
       " ('david-luiz', 12, 84),\n",
       " ('antonio-rudiger', 17, 81),\n",
       " ('n-golo-kante', 14, 88),\n",
       " ('cesc-fabregas', 15, 85),\n",
       " ('jerome-boateng', 4, 87),\n",
       " ('michy-batshuayi', 15, 81),\n",
       " ('willian', 9, 84)]"
      ]
     },
     "execution_count": 83,
     "metadata": {},
     "output_type": "execute_result"
    }
   ],
   "source": [
    "home_players"
   ]
  },
  {
   "cell_type": "code",
   "execution_count": 67,
   "metadata": {},
   "outputs": [],
   "source": [
    "willian = [player for player in data if player['name'] == 'willian']"
   ]
  },
  {
   "cell_type": "code",
   "execution_count": 68,
   "metadata": {},
   "outputs": [
    {
     "data": {
      "text/plain": [
       "[{'name': 'willian-jose',\n",
       "  'info': {'raw team': 'Real Sociedad',\n",
       "   'team': 'real-sociedad',\n",
       "   'position': 'ST',\n",
       "   'raw name': 'Willian José',\n",
       "   'rating': 82,\n",
       "   'general position': 'attack'}}]"
      ]
     },
     "execution_count": 68,
     "metadata": {},
     "output_type": "execute_result"
    }
   ],
   "source": [
    "willian"
   ]
  },
  {
   "cell_type": "code",
   "execution_count": 84,
   "metadata": {},
   "outputs": [
    {
     "data": {
      "text/plain": [
       "330"
      ]
     },
     "execution_count": 84,
     "metadata": {},
     "output_type": "execute_result"
    }
   ],
   "source": [
    "len(data)"
   ]
  },
  {
   "cell_type": "code",
   "execution_count": null,
   "metadata": {},
   "outputs": [],
   "source": []
  }
 ],
 "metadata": {
  "kernelspec": {
   "display_name": "fifa-predictor",
   "language": "python",
   "name": "fifa-ratings-scraper"
  },
  "language_info": {
   "codemirror_mode": {
    "name": "ipython",
    "version": 3
   },
   "file_extension": ".py",
   "mimetype": "text/x-python",
   "name": "python",
   "nbconvert_exporter": "python",
   "pygments_lexer": "ipython3",
   "version": "3.6.5"
  }
 },
 "nbformat": 4,
 "nbformat_minor": 2
}
